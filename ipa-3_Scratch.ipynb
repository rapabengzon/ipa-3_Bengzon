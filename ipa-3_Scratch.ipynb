{
 "cells": [
  {
   "cell_type": "code",
   "execution_count": 242,
   "id": "9a3881cd",
   "metadata": {},
   "outputs": [],
   "source": [
    "def relationship_status(from_member, to_member, social_graph):\n",
    "    '''Relationship Status.\n",
    "    20 points.\n",
    "\n",
    "    Let us pretend that you are building a new app.\n",
    "    Your app supports social media functionality, which means that users can have\n",
    "    relationships with other users.\n",
    "\n",
    "    There are two guidelines for describing relationships on this social media app:\n",
    "    1. Any user can follow any other user.\n",
    "    2. If two users follow each other, they are considered friends.\n",
    "\n",
    "    This function describes the relationship that two users have with each other.\n",
    "\n",
    "    Please see \"assignment-4-sample-data.py\" for sample data. The social graph\n",
    "    will adhere to the same pattern.\n",
    "\n",
    "    Parameters\n",
    "    ----------\n",
    "    from_member: str\n",
    "        the subject member\n",
    "    to_member: str\n",
    "        the object member\n",
    "    social_graph: dict\n",
    "        the relationship data\n",
    "\n",
    "    Returns\n",
    "    -------\n",
    "    str\n",
    "        \"follower\" if fromMember follows toMember,\n",
    "        \"followed by\" if fromMember is followed by toMember,\n",
    "        \"friends\" if fromMember and toMember follow each other,\n",
    "        \"no relationship\" if neither fromMember nor toMember follow each other.\n",
    "    '''\n",
    "    # Replace `pass` with your code.\n",
    "    # Stay within the function. Only use the parameters as input. The function should return your answer.\n",
    "    from_member_following=social_graph[from_member]['following']\n",
    "    to_member_following=social_graph[to_member]['following']\n",
    "    if to_member in from_member_following and from_member in to_member_following:\n",
    "        print('Friends')\n",
    "    elif to_member in from_member_following and from_member not in to_member_following:\n",
    "        print('Follower')\n",
    "    elif from_member in to_member_following and to_member not in from_member_following:\n",
    "        print('Followed by')\n",
    "    else:\n",
    "        print('No Relationship')\n",
    "    "
   ]
  },
  {
   "cell_type": "code",
   "execution_count": null,
   "id": "789cb4f7",
   "metadata": {},
   "outputs": [],
   "source": []
  },
  {
   "cell_type": "code",
   "execution_count": 306,
   "id": "d9b96c29",
   "metadata": {},
   "outputs": [],
   "source": [
    "def tic_tac_toe(board):\n",
    "    '''Tic Tac Toe.\n",
    "    25 points.\n",
    "\n",
    "    Tic Tac Toe is a common paper-and-pencil game.\n",
    "    Players must attempt to successfully draw a straight line of their symbol across a grid.\n",
    "    The player that does this first is considered the winner.\n",
    "\n",
    "    This function evaluates a tic tac toe board and returns the winner.\n",
    "\n",
    "    Please see \"assignment-4-sample-data.py\" for sample data. The board will adhere\n",
    "    to the same pattern. The board may by 3x3, 4x4, 5x5, or 6x6. The board will never\n",
    "    have more than one winner. The board will only ever have 2 unique symbols at the same time.\n",
    "\n",
    "    Parameters\n",
    "    ----------\n",
    "    board: list\n",
    "        the representation of the tic-tac-toe board as a square list of lists\n",
    "\n",
    "    Returns\n",
    "    -------\n",
    "    str\n",
    "        the symbol of the winner or \"NO WINNER\" if there is no winner\n",
    "    '''\n",
    "    # Replace `pass` with your code.\n",
    "    # Stay within the function. Only use the parameters as input. The function should return your answer.\n",
    "    winners=''\n",
    "    size=len(board)\n",
    "    count_col=0\n",
    "    for col in range(size):\n",
    "        if all(board[row][col] == board[0][col] != ' ' for row in range(size)):\n",
    "            return board[0][col]\n",
    "    \n",
    "    for row in range(size):\n",
    "        count_row=1\n",
    "        while count_row<=size:\n",
    "            if board[row][0]==board[row][count_row]:\n",
    "                count_row+=1\n",
    "            if count_row==size:\n",
    "                winners=board[row][0]\n",
    "                break\n",
    "    \n",
    "    if all(board[diag][diag] == board[0][0] != ' ' for diag in range(size)):\n",
    "        winners=board[0][0]\n",
    "    if all(board7[diag][size - diag - 1] == board7[0][size - 1] != ' ' for diag in range(size)):\n",
    "        winners=board[0][size - 1]\n",
    "        \n",
    "    if winners != '':\n",
    "        print(winners)\n",
    "    else:\n",
    "        print('No winner')"
   ]
  },
  {
   "cell_type": "code",
   "execution_count": 307,
   "id": "4ae54393",
   "metadata": {},
   "outputs": [
    {
     "ename": "KeyboardInterrupt",
     "evalue": "",
     "output_type": "error",
     "traceback": [
      "\u001b[0;31m---------------------------------------------------------------------------\u001b[0m",
      "\u001b[0;31mKeyboardInterrupt\u001b[0m                         Traceback (most recent call last)",
      "Cell \u001b[0;32mIn[307], line 1\u001b[0m\n\u001b[0;32m----> 1\u001b[0m tic_tac_toe(board2)\n",
      "Cell \u001b[0;32mIn[306], line 37\u001b[0m, in \u001b[0;36mtic_tac_toe\u001b[0;34m(board)\u001b[0m\n\u001b[1;32m     35\u001b[0m count_row\u001b[39m=\u001b[39m\u001b[39m1\u001b[39m\n\u001b[1;32m     36\u001b[0m \u001b[39mwhile\u001b[39;00m count_row\u001b[39m<\u001b[39m\u001b[39m=\u001b[39msize:\n\u001b[0;32m---> 37\u001b[0m     \u001b[39mif\u001b[39;00m board[row][\u001b[39m0\u001b[39m]\u001b[39m==\u001b[39mboard[row][count_row]:\n\u001b[1;32m     38\u001b[0m         count_row\u001b[39m+\u001b[39m\u001b[39m=\u001b[39m\u001b[39m1\u001b[39m\n\u001b[1;32m     39\u001b[0m     \u001b[39mif\u001b[39;00m count_row\u001b[39m==\u001b[39msize:\n",
      "\u001b[0;31mKeyboardInterrupt\u001b[0m: "
     ]
    }
   ],
   "source": [
    "tic_tac_toe(board2)"
   ]
  },
  {
   "cell_type": "code",
   "execution_count": 244,
   "id": "5de779c0",
   "metadata": {},
   "outputs": [],
   "source": [
    "def eta(first_stop, second_stop, route_map):\n",
    "    '''ETA.\n",
    "    25 points.\n",
    "\n",
    "    A shuttle van service is tasked to travel along a predefined circlar route.\n",
    "    This route is divided into several legs between stops.\n",
    "    The route is one-way only, and it is fully connected to itself.\n",
    "\n",
    "    This function returns how long it will take the shuttle to arrive at a stop\n",
    "    after leaving another stop.\n",
    "\n",
    "    Please see \"mod-4-ipa-1-sample-data.py\" for sample data. The route map will\n",
    "    adhere to the same pattern. The route map may contain more legs and more stops,\n",
    "    but it will always be one-way and fully enclosed.\n",
    "\n",
    "    Parameters\n",
    "    ----------\n",
    "    first_stop: str\n",
    "        the stop that the shuttle will leave\n",
    "    second_stop: str\n",
    "        the stop that the shuttle will arrive at\n",
    "    route_map: dict\n",
    "        the data describing the routes\n",
    "\n",
    "    Returns\n",
    "    -------\n",
    "    int\n",
    "        the time it will take the shuttle to travel from first_stop to second_stop\n",
    "    '''\n",
    "    # Replace `pass` with your code.\n",
    "    # Stay within the function. Only use the parameters as input. The function should return your answer.\n",
    "    distance=0\n",
    "    places=tuple(route_map.keys())\n",
    "    for i in range(len(places)):\n",
    "        if first_stop in places[i] and places[i].index(first_stop)==0:\n",
    "            distance+=route_map[places[i]]['travel_time_mins']\n",
    "            start=places.index(places[i])+1\n",
    "            break\n",
    "    for i in range(start,len(places)):\n",
    "        distance+=route_map[places[i]]['travel_time_mins']\n",
    "        if second_stop in places[i] and places[i].index(second_stop)==0:\n",
    "            distance-=route_map[places[i]]['travel_time_mins']\n",
    "            break\n",
    "    return(distance)"
   ]
  },
  {
   "cell_type": "code",
   "execution_count": null,
   "id": "0bee7092",
   "metadata": {},
   "outputs": [],
   "source": []
  },
  {
   "cell_type": "code",
   "execution_count": 245,
   "id": "c4ff3908",
   "metadata": {},
   "outputs": [],
   "source": [
    "social_graph = {\n",
    "    \"@bongolpoc\":{\"first_name\":\"Joselito\",\n",
    "                  \"last_name\":\"Olpoc\",\n",
    "                  \"following\":[\n",
    "                  ]\n",
    "    },\n",
    "    \"@joaquin\":  {\"first_name\":\"Joaquin\",\n",
    "                  \"last_name\":\"Gonzales\",\n",
    "                  \"following\":[\n",
    "                      \"@chums\",\"@jobenilagan\"\n",
    "                  ]\n",
    "    },\n",
    "    \"@chums\" : {\"first_name\":\"Matthew\",\n",
    "                \"last_name\":\"Uy\",\n",
    "                \"following\":[\n",
    "                    \"@bongolpoc\",\"@miketan\",\"@rudyang\",\"@joeilagan\"\n",
    "                ]\n",
    "    },\n",
    "    \"@jobenilagan\":{\"first_name\":\"Joben\",\n",
    "                   \"last_name\":\"Ilagan\",\n",
    "                   \"following\":[\n",
    "                    \"@eeebeee\",\"@joeilagan\",\"@chums\",\"@joaquin\"\n",
    "                   ]\n",
    "    },\n",
    "    \"@joeilagan\":{\"first_name\":\"Joe\",\n",
    "                  \"last_name\":\"Ilagan\",\n",
    "                  \"following\":[\n",
    "                    \"@eeebeee\",\"@jobenilagan\",\"@chums\"\n",
    "                  ]\n",
    "    },\n",
    "    \"@eeebeee\":  {\"first_name\":\"Elizabeth\",\n",
    "                  \"last_name\":\"Ilagan\",\n",
    "                  \"following\":[\n",
    "                    \"@jobenilagan\",\"@joeilagan\"\n",
    "                  ]\n",
    "    },\n",
    "}"
   ]
  },
  {
   "cell_type": "code",
   "execution_count": 246,
   "id": "75abe2ae",
   "metadata": {},
   "outputs": [
    {
     "name": "stdout",
     "output_type": "stream",
     "text": [
      "Friends\n"
     ]
    }
   ],
   "source": [
    "relationship_status('@chums', '@joeilagan', social_graph)"
   ]
  },
  {
   "cell_type": "code",
   "execution_count": 278,
   "id": "d1978d5d",
   "metadata": {},
   "outputs": [],
   "source": [
    "board1 = [\n",
    "['X','X','O'],\n",
    "['O','X','O'],\n",
    "['O','','X'],\n",
    "]\n",
    "\n",
    "board2 = [\n",
    "['X','X','O'],\n",
    "['O','X','O'],\n",
    "['','O','X'],\n",
    "]\n",
    "\n",
    "board3 = [\n",
    "['O','X','O'],\n",
    "['','O','X'],\n",
    "['X','X','O'],\n",
    "]\n",
    "\n",
    "board4 = [\n",
    "['X','X','X'],\n",
    "['O','X','O'],\n",
    "['O','','O'],\n",
    "]\n",
    "\n",
    "board5 = [\n",
    "['X','X','O'],\n",
    "['O','X','O'],\n",
    "['X','','O'],\n",
    "]\n",
    "\n",
    "board6 = [\n",
    "['X','X','O'],\n",
    "['O','X','O'],\n",
    "['X','',''],\n",
    "]\n",
    "\n",
    "board7 = [\n",
    "['X','X','X','O'],\n",
    "['X','X','O','O'],\n",
    "['X','','','O'],\n",
    "['O','X','','']\n",
    "]"
   ]
  },
  {
   "cell_type": "code",
   "execution_count": 296,
   "id": "bf405db6",
   "metadata": {},
   "outputs": [
    {
     "ename": "IndexError",
     "evalue": "list index out of range",
     "output_type": "error",
     "traceback": [
      "\u001b[0;31m---------------------------------------------------------------------------\u001b[0m",
      "\u001b[0;31mIndexError\u001b[0m                                Traceback (most recent call last)",
      "Cell \u001b[0;32mIn[296], line 1\u001b[0m\n\u001b[0;32m----> 1\u001b[0m tic_tac_toe(board7)\n",
      "Cell \u001b[0;32mIn[295], line 32\u001b[0m, in \u001b[0;36mtic_tac_toe\u001b[0;34m(board)\u001b[0m\n\u001b[1;32m     30\u001b[0m \u001b[39mfor\u001b[39;00m column \u001b[39min\u001b[39;00m \u001b[39mrange\u001b[39m(size):\n\u001b[1;32m     31\u001b[0m     \u001b[39mwhile\u001b[39;00m count_col\u001b[39m<\u001b[39m\u001b[39m=\u001b[39msize:\n\u001b[0;32m---> 32\u001b[0m         \u001b[39mif\u001b[39;00m board[count_col][column]\u001b[39m==\u001b[39mboard[size][column]\u001b[39m!=\u001b[39m\u001b[39m'\u001b[39m\u001b[39m \u001b[39m\u001b[39m'\u001b[39m\u001b[39m!=\u001b[39m\u001b[39m'\u001b[39m\u001b[39m'\u001b[39m:\n\u001b[1;32m     33\u001b[0m             count_col\u001b[39m+\u001b[39m\u001b[39m=\u001b[39m\u001b[39m1\u001b[39m\n\u001b[1;32m     34\u001b[0m         \u001b[39melse\u001b[39;00m:\n",
      "\u001b[0;31mIndexError\u001b[0m: list index out of range"
     ]
    }
   ],
   "source": [
    "tic_tac_toe(board7)"
   ]
  },
  {
   "cell_type": "code",
   "execution_count": 289,
   "id": "37ab66a8",
   "metadata": {},
   "outputs": [
    {
     "name": "stdout",
     "output_type": "stream",
     "text": [
      "X\n"
     ]
    }
   ],
   "source": [
    "winners=''\n",
    "size=len(board7)\n",
    "count_col=0\n",
    "for column in range(0,size):\n",
    "    while count_col<=size:\n",
    "        if board7[column][column]==board7[column][column]!=' '!='':\n",
    "            count_col+=1\n",
    "        else:\n",
    "            break\n",
    "if count_col==size:\n",
    "    winners=board7[column][0]\n",
    "\n",
    "for row in range(0,size):\n",
    "    count_row=1\n",
    "    while count_row<=size:\n",
    "        if board7[row][0]==board7[row][count]:\n",
    "            count_row+=1\n",
    "        else:\n",
    "            break\n",
    "if count_row==size:\n",
    "    winners=board7[row][0]\n",
    "    \n",
    "for i in range(size):\n",
    "    if board7[i][i] == board7[0][0] != ' ' :\n",
    "        winners=board7[0][0]\n",
    "for i in range(size):\n",
    "    if board7[i][size - i - 1] == board7[0][size - 1] != ' ' :\n",
    "        winners=board7[0][size - 1]\n",
    "        \n",
    "if winners != '':\n",
    "    print(winners)\n",
    "else:\n",
    "    print('No winner')"
   ]
  },
  {
   "cell_type": "code",
   "execution_count": 250,
   "metadata": {},
   "outputs": [],
   "source": [
    "legs = {\n",
    "     (\"upd\",\"admu\"):{\n",
    "         \"travel_time_mins\":10\n",
    "     },\n",
    "     (\"admu\",\"dlsu\"):{\n",
    "         \"travel_time_mins\":35\n",
    "     },\n",
    "     (\"dlsu\",\"upd\"):{\n",
    "         \"travel_time_mins\":25\n",
    "     }\n",
    "}"
   ]
  },
  {
   "cell_type": "code",
   "execution_count": 251,
   "id": "d10e0c5e",
   "metadata": {},
   "outputs": [
    {
     "data": {
      "text/plain": [
       "1"
      ]
     },
     "execution_count": 251,
     "metadata": {},
     "output_type": "execute_result"
    }
   ],
   "source": [
    "places.index(places[1])"
   ]
  },
  {
   "cell_type": "code",
   "execution_count": 252,
   "id": "cd0a0d89",
   "metadata": {},
   "outputs": [
    {
     "name": "stdout",
     "output_type": "stream",
     "text": [
      "45\n"
     ]
    }
   ],
   "source": [
    "distance=0\n",
    "places=tuple(legs.keys())\n",
    "for i in range(len(places)):\n",
    "    if 'upd' in places[i] and places[i].index('upd')==0:\n",
    "        distance+=legs[places[i]]['travel_time_mins']\n",
    "        start=places.index(places[i])+1\n",
    "        break\n",
    "for i in range(start,len(places)):\n",
    "    distance+=legs[places[i]]['travel_time_mins']\n",
    "    if 'dlsu' in places[i] and places[i].index('dlsu')==0:\n",
    "        distance-=legs[places[i]]['travel_time_mins']\n",
    "        break\n",
    "print(distance)"
   ]
  },
  {
   "cell_type": "code",
   "execution_count": 253,
   "id": "7c032114",
   "metadata": {},
   "outputs": [
    {
     "data": {
      "text/plain": [
       "45"
      ]
     },
     "execution_count": 253,
     "metadata": {},
     "output_type": "execute_result"
    }
   ],
   "source": [
    "eta('upd','dlsu',legs)"
   ]
  }
 ],
 "metadata": {
  "kernelspec": {
   "display_name": "Python 3 (ipykernel)",
   "language": "python",
   "name": "python3"
  },
  "language_info": {
   "codemirror_mode": {
    "name": "ipython",
    "version": 3
   },
   "file_extension": ".py",
   "mimetype": "text/x-python",
   "name": "python",
   "nbconvert_exporter": "python",
   "pygments_lexer": "ipython3",
   "version": "3.10.9"
  }
 },
 "nbformat": 4,
 "nbformat_minor": 5
}
